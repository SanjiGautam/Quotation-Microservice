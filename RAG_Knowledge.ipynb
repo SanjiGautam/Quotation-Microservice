{
  "nbformat": 4,
  "nbformat_minor": 0,
  "metadata": {
    "colab": {
      "provenance": [],
      "authorship_tag": "ABX9TyMVng6BDLVAF4hNkolIklrR",
      "include_colab_link": true
    },
    "kernelspec": {
      "name": "python3",
      "display_name": "Python 3"
    },
    "language_info": {
      "name": "python"
    }
  },
  "cells": [
    {
      "cell_type": "markdown",
      "metadata": {
        "id": "view-in-github",
        "colab_type": "text"
      },
      "source": [
        "<a href=\"https://colab.research.google.com/github/SanjiGautam/Quotation-Microservice/blob/main/RAG_Knowledge.ipynb\" target=\"_parent\"><img src=\"https://colab.research.google.com/assets/colab-badge.svg\" alt=\"Open In Colab\"/></a>"
      ]
    },
    {
      "cell_type": "code",
      "source": [
        "!pip install -q sentence-transformers faiss-cpu langchain langchain-community pypdf\n",
        "\n",
        "\n"
      ],
      "metadata": {
        "collapsed": true,
        "id": "OHaznKDFgSgi"
      },
      "execution_count": 21,
      "outputs": []
    },
    {
      "cell_type": "code",
      "source": [
        "import os\n",
        "from langchain_community.vectorstores import FAISS\n",
        "from langchain.text_splitter import RecursiveCharacterTextSplitter\n",
        "from langchain_community.document_loaders import PyPDFLoader\n",
        "from sentence_transformers import SentenceTransformer\n",
        "import numpy as np\n"
      ],
      "metadata": {
        "collapsed": true,
        "id": "9vqGW8USgchE"
      },
      "execution_count": 22,
      "outputs": []
    },
    {
      "cell_type": "code",
      "source": [
        "PDF_PATH = \"led_catalog.pdf\"   # make sure you uploaded this file\n",
        "loader = PyPDFLoader(PDF_PATH)\n",
        "pages = loader.load()\n",
        "print(f\"Loaded {len(pages)} pages from PDF\")"
      ],
      "metadata": {
        "colab": {
          "base_uri": "https://localhost:8080/"
        },
        "id": "i3ERxS3wiCBu",
        "outputId": "4fca8458-202e-4461-e365-f5a5132b9508"
      },
      "execution_count": 24,
      "outputs": [
        {
          "output_type": "stream",
          "name": "stdout",
          "text": [
            "Loaded 1 pages from PDF\n"
          ]
        }
      ]
    },
    {
      "cell_type": "code",
      "source": [
        "splitter = RecursiveCharacterTextSplitter(chunk_size=400, chunk_overlap=80)\n",
        "all_texts = []\n",
        "metadatas = []\n",
        "\n",
        "for i, doc in enumerate(pages):\n",
        "    chunks = splitter.split_text(doc.page_content)\n",
        "    for ci, c in enumerate(chunks):\n",
        "        all_texts.append(c)\n",
        "        metadatas.append({\"source\": PDF_PATH, \"page\": i, \"chunk_id\": ci})\n",
        "\n",
        "print(f\"Created {len(all_texts)} chunks\")\n"
      ],
      "metadata": {
        "colab": {
          "base_uri": "https://localhost:8080/"
        },
        "id": "o7KRqeXCiI5s",
        "outputId": "14564d7e-9890-4e2f-d142-f62c17cc84a1"
      },
      "execution_count": 25,
      "outputs": [
        {
          "output_type": "stream",
          "name": "stdout",
          "text": [
            "Created 3 chunks\n"
          ]
        }
      ]
    },
    {
      "cell_type": "code",
      "source": [
        "st_model = SentenceTransformer(\"sentence-transformers/all-MiniLM-L6-v2\")\n",
        "\n",
        "class LocalEmbeddings:\n",
        "    def __init__(self, model):\n",
        "        self.model = model\n",
        "\n",
        "    def embed_documents(self, texts):\n",
        "        arr = self.model.encode(texts, convert_to_numpy=True)\n",
        "        return [v.astype(np.float32).tolist() for v in arr]\n",
        "\n",
        "    def embed_query(self, text):\n",
        "        v = self.model.encode([text], convert_to_numpy=True)[0]\n",
        "        return v.astype(np.float32).tolist()\n",
        "\n",
        "    # Fix for FAISS: make the object callable\n",
        "    def __call__(self, text):\n",
        "        return self.embed_query(text)\n",
        "\n",
        "embeddings = LocalEmbeddings(st_model)\n",
        "print(\"Local embeddings ready\")\n"
      ],
      "metadata": {
        "colab": {
          "base_uri": "https://localhost:8080/"
        },
        "collapsed": true,
        "id": "h7zvfpKRiWg6",
        "outputId": "47d5c6d8-855f-49df-f762-d7828ab27644"
      },
      "execution_count": 26,
      "outputs": [
        {
          "output_type": "stream",
          "name": "stdout",
          "text": [
            "Local embeddings ready\n"
          ]
        }
      ]
    },
    {
      "cell_type": "code",
      "source": [
        "vector_store = FAISS.from_texts(all_texts, embeddings, metadatas=metadatas)\n",
        "print(\"FAISS index built successfully\")"
      ],
      "metadata": {
        "colab": {
          "base_uri": "https://localhost:8080/"
        },
        "collapsed": true,
        "id": "f12AJlmPieWw",
        "outputId": "c87a7786-1da1-4f8b-cf2a-7430be647314"
      },
      "execution_count": 27,
      "outputs": [
        {
          "output_type": "stream",
          "name": "stderr",
          "text": [
            "WARNING:langchain_community.vectorstores.faiss:`embedding_function` is expected to be an Embeddings object, support for passing in a function will soon be removed.\n"
          ]
        },
        {
          "output_type": "stream",
          "name": "stdout",
          "text": [
            "FAISS index built successfully\n"
          ]
        }
      ]
    },
    {
      "cell_type": "code",
      "source": [
        "def query_rag(query, k=3):\n",
        "    results = vector_store.similarity_search(query, k=k)\n",
        "    answers = []\n",
        "    for r in results:\n",
        "        answers.append({\n",
        "            \"answer\": r.page_content,\n",
        "            \"source\": r.metadata[\"source\"],\n",
        "            \"page\": r.metadata[\"page\"],\n",
        "            \"chunk_id\": r.metadata[\"chunk_id\"]\n",
        "        })\n",
        "    return answers\n",
        "\n"
      ],
      "metadata": {
        "id": "60cD7Ddei-Ug"
      },
      "execution_count": 28,
      "outputs": []
    },
    {
      "cell_type": "code",
      "source": [
        "queries = [\n",
        "    \"Do you have LED street lights? Which types are available?\",\n",
        "    \"What is the warranty on flood lights?\",\n",
        "    \"Can I place a bulk order of 500 panel lights?\",\n",
        "    \"What is the price of a 90W LED street light?\",\n",
        "    \"Why should I use LED instead of CFL?\",\n",
        "    \"هل تحتوي إضاءة LED على الزئبق؟\"\n",
        "]\n",
        "\n",
        "for q in queries:\n",
        "    print(\"\\n\" + \"=\"*50)\n",
        "    print(\"Query:\", q)\n",
        "    results = query_rag(q, k=2)\n",
        "    for i, r in enumerate(results, start=1):\n",
        "        print(f\"\\nResult #{i}\")\n",
        "        print(\"Answer:\", r[\"answer\"])\n",
        "        print(\"Source:\", r[\"source\"], \"| Page:\", r[\"page\"], \"| Chunk:\", r[\"chunk_id\"])\n",
        "\n"
      ],
      "metadata": {
        "colab": {
          "base_uri": "https://localhost:8080/"
        },
        "id": "DCVgc8Vyk-GH",
        "outputId": "fd8ba108-ca4c-4204-8db0-79cee0746a00"
      },
      "execution_count": 29,
      "outputs": [
        {
          "output_type": "stream",
          "name": "stdout",
          "text": [
            "\n",
            "==================================================\n",
            "Query: Do you have LED street lights? Which types are available?\n",
            "\n",
            "Result #1\n",
            "Answer: Alrouf Lighting Technology Pvt Ltd – LED Lighting Catalog & Policies \n",
            "Product Catalog \n",
            "• LED Street Light (90W, 120W, 150W) – High efficiency, IP65, 5-year warranty. \n",
            "• LED Flood Light (50W, 100W, 200W) – Waterproof, suitable for outdoor projects. \n",
            "• LED Panel Light (2x2, 2x4) – Slim design, office/indoor use. \n",
            "• لدينا مصابيح  LED للشارع  بقدرات  مختلفة )90 واط، 120 واط، 150 واط(.\n",
            "Source: led_catalog.pdf | Page: 0 | Chunk: 0\n",
            "\n",
            "Result #2\n",
            "Answer: • لدينا مصابيح  LED للشارع  بقدرات  مختلفة )90 واط، 120 واط، 150 واط(.   \n",
            "Warranty Policy \n",
            "• All LED lights come with 5 years warranty against manufacturing defects. \n",
            "• Replacement or repair provided within warranty period. \n",
            "Bulk Order & Pricing Policy \n",
            "• Bulk orders above 100 units get a 10% discount. \n",
            "• Standard delivery: 2–3 weeks for bulk orders. \n",
            "• Pricing: \n",
            "o Street Light 90W – 240 SAR\n",
            "Source: led_catalog.pdf | Page: 0 | Chunk: 1\n",
            "\n",
            "==================================================\n",
            "Query: What is the warranty on flood lights?\n",
            "\n",
            "Result #1\n",
            "Answer: • لدينا مصابيح  LED للشارع  بقدرات  مختلفة )90 واط، 120 واط، 150 واط(.   \n",
            "Warranty Policy \n",
            "• All LED lights come with 5 years warranty against manufacturing defects. \n",
            "• Replacement or repair provided within warranty period. \n",
            "Bulk Order & Pricing Policy \n",
            "• Bulk orders above 100 units get a 10% discount. \n",
            "• Standard delivery: 2–3 weeks for bulk orders. \n",
            "• Pricing: \n",
            "o Street Light 90W – 240 SAR\n",
            "Source: led_catalog.pdf | Page: 0 | Chunk: 1\n",
            "\n",
            "Result #2\n",
            "Answer: Alrouf Lighting Technology Pvt Ltd – LED Lighting Catalog & Policies \n",
            "Product Catalog \n",
            "• LED Street Light (90W, 120W, 150W) – High efficiency, IP65, 5-year warranty. \n",
            "• LED Flood Light (50W, 100W, 200W) – Waterproof, suitable for outdoor projects. \n",
            "• LED Panel Light (2x2, 2x4) – Slim design, office/indoor use. \n",
            "• لدينا مصابيح  LED للشارع  بقدرات  مختلفة )90 واط، 120 واط، 150 واط(.\n",
            "Source: led_catalog.pdf | Page: 0 | Chunk: 0\n",
            "\n",
            "==================================================\n",
            "Query: Can I place a bulk order of 500 panel lights?\n",
            "\n",
            "Result #1\n",
            "Answer: • لدينا مصابيح  LED للشارع  بقدرات  مختلفة )90 واط، 120 واط، 150 واط(.   \n",
            "Warranty Policy \n",
            "• All LED lights come with 5 years warranty against manufacturing defects. \n",
            "• Replacement or repair provided within warranty period. \n",
            "Bulk Order & Pricing Policy \n",
            "• Bulk orders above 100 units get a 10% discount. \n",
            "• Standard delivery: 2–3 weeks for bulk orders. \n",
            "• Pricing: \n",
            "o Street Light 90W – 240 SAR\n",
            "Source: led_catalog.pdf | Page: 0 | Chunk: 1\n",
            "\n",
            "Result #2\n",
            "Answer: Alrouf Lighting Technology Pvt Ltd – LED Lighting Catalog & Policies \n",
            "Product Catalog \n",
            "• LED Street Light (90W, 120W, 150W) – High efficiency, IP65, 5-year warranty. \n",
            "• LED Flood Light (50W, 100W, 200W) – Waterproof, suitable for outdoor projects. \n",
            "• LED Panel Light (2x2, 2x4) – Slim design, office/indoor use. \n",
            "• لدينا مصابيح  LED للشارع  بقدرات  مختلفة )90 واط، 120 واط، 150 واط(.\n",
            "Source: led_catalog.pdf | Page: 0 | Chunk: 0\n",
            "\n",
            "==================================================\n",
            "Query: What is the price of a 90W LED street light?\n",
            "\n",
            "Result #1\n",
            "Answer: • لدينا مصابيح  LED للشارع  بقدرات  مختلفة )90 واط، 120 واط، 150 واط(.   \n",
            "Warranty Policy \n",
            "• All LED lights come with 5 years warranty against manufacturing defects. \n",
            "• Replacement or repair provided within warranty period. \n",
            "Bulk Order & Pricing Policy \n",
            "• Bulk orders above 100 units get a 10% discount. \n",
            "• Standard delivery: 2–3 weeks for bulk orders. \n",
            "• Pricing: \n",
            "o Street Light 90W – 240 SAR\n",
            "Source: led_catalog.pdf | Page: 0 | Chunk: 1\n",
            "\n",
            "Result #2\n",
            "Answer: Alrouf Lighting Technology Pvt Ltd – LED Lighting Catalog & Policies \n",
            "Product Catalog \n",
            "• LED Street Light (90W, 120W, 150W) – High efficiency, IP65, 5-year warranty. \n",
            "• LED Flood Light (50W, 100W, 200W) – Waterproof, suitable for outdoor projects. \n",
            "• LED Panel Light (2x2, 2x4) – Slim design, office/indoor use. \n",
            "• لدينا مصابيح  LED للشارع  بقدرات  مختلفة )90 واط، 120 واط، 150 واط(.\n",
            "Source: led_catalog.pdf | Page: 0 | Chunk: 0\n",
            "\n",
            "==================================================\n",
            "Query: Why should I use LED instead of CFL?\n",
            "\n",
            "Result #1\n",
            "Answer: • Pricing: \n",
            "o Street Light 90W – 240 SAR \n",
            "o Flood Light 100W – 180 SAR \n",
            "o Panel Light 2x2 – 120 SAR \n",
            "LED vs CFL Advantage \n",
            "• LEDs save up to 60% energy compared to CFL. \n",
            "• Long life: 50,000 hours vs 8,000 hours for CFL. \n",
            "• Eco-friendly: No mercury inside.\n",
            "Source: led_catalog.pdf | Page: 0 | Chunk: 2\n",
            "\n",
            "Result #2\n",
            "Answer: Alrouf Lighting Technology Pvt Ltd – LED Lighting Catalog & Policies \n",
            "Product Catalog \n",
            "• LED Street Light (90W, 120W, 150W) – High efficiency, IP65, 5-year warranty. \n",
            "• LED Flood Light (50W, 100W, 200W) – Waterproof, suitable for outdoor projects. \n",
            "• LED Panel Light (2x2, 2x4) – Slim design, office/indoor use. \n",
            "• لدينا مصابيح  LED للشارع  بقدرات  مختلفة )90 واط، 120 واط، 150 واط(.\n",
            "Source: led_catalog.pdf | Page: 0 | Chunk: 0\n",
            "\n",
            "==================================================\n",
            "Query: هل تحتوي إضاءة LED على الزئبق؟\n",
            "\n",
            "Result #1\n",
            "Answer: Alrouf Lighting Technology Pvt Ltd – LED Lighting Catalog & Policies \n",
            "Product Catalog \n",
            "• LED Street Light (90W, 120W, 150W) – High efficiency, IP65, 5-year warranty. \n",
            "• LED Flood Light (50W, 100W, 200W) – Waterproof, suitable for outdoor projects. \n",
            "• LED Panel Light (2x2, 2x4) – Slim design, office/indoor use. \n",
            "• لدينا مصابيح  LED للشارع  بقدرات  مختلفة )90 واط، 120 واط، 150 واط(.\n",
            "Source: led_catalog.pdf | Page: 0 | Chunk: 0\n",
            "\n",
            "Result #2\n",
            "Answer: • لدينا مصابيح  LED للشارع  بقدرات  مختلفة )90 واط، 120 واط، 150 واط(.   \n",
            "Warranty Policy \n",
            "• All LED lights come with 5 years warranty against manufacturing defects. \n",
            "• Replacement or repair provided within warranty period. \n",
            "Bulk Order & Pricing Policy \n",
            "• Bulk orders above 100 units get a 10% discount. \n",
            "• Standard delivery: 2–3 weeks for bulk orders. \n",
            "• Pricing: \n",
            "o Street Light 90W – 240 SAR\n",
            "Source: led_catalog.pdf | Page: 0 | Chunk: 1\n"
          ]
        }
      ]
    }
  ]
}